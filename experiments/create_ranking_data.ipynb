{
 "cells": [
  {
   "cell_type": "code",
   "execution_count": null,
   "metadata": {},
   "outputs": [],
   "source": []
  }
 ],
 "metadata": {
  "kernelspec": {
   "display_name": "Python 3.8.13 ('ieqa')",
   "language": "python",
   "name": "python3"
  },
  "language_info": {
   "name": "python",
   "version": "3.8.13"
  },
  "orig_nbformat": 4,
  "vscode": {
   "interpreter": {
    "hash": "b36d943db9b852e274cd15db0e105c58614cc53f93f89cd8e627c0924f2c1231"
   }
  }
 },
 "nbformat": 4,
 "nbformat_minor": 2
}
